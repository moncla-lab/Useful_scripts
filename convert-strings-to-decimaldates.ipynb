{
 "cells": [
  {
   "cell_type": "code",
   "execution_count": 1,
   "id": "e787bea6-c351-43b0-aac7-3985f732124a",
   "metadata": {},
   "outputs": [],
   "source": [
    "import os\n",
    "import re\n",
    "from datetime import datetime, timedelta\n",
    "import pandas as pd\n",
    "import numpy as np"
   ]
  },
  {
   "cell_type": "code",
   "execution_count": 24,
   "id": "553fbfa5-825e-4c7a-b020-7b52de2ded1f",
   "metadata": {},
   "outputs": [],
   "source": [
    "date_strings = [\"September 1 2021\", \"October 1 2021\", \"November 1 2021\", \"December 1 2021\", \n",
    "                \"January 1 2022\", \"February 1 2022\", \"March 1 2022\", \"April 1 2022\", \"May 1 2022\", \"June 1 2022\",\n",
    "               \"July 1 2022\", \"August 1 2022\", \"September 1 2022\", \"October 1 2022\", \"November 1 2022\", \"December 1 2022\",\n",
    "               \"January 1 2023\", \"February 1 2023\", \"March 1 2023\", \"April 1 2023\", \"May 1 2023\", \"June 1 2023\",\n",
    "               \"July 1 2023\", \"August 1 2023\", \"September 1 2023\", \"October 1 2023\", \"November 1 2023\", \"December 1 2023\",\n",
    "               \"January 1 2024\", \"February 1 2024\", \"March 1 2024\", \"April 1 2024\", \"May 1 2024\", \"June 1 2024\",\n",
    "               \"July 1 2024\", \"August 1 2024\", \"September 1 2024\", \"October 1 2024\", \"November 1 2024\", \"December 1 2024\",]"
   ]
  },
  {
   "cell_type": "code",
   "execution_count": 25,
   "id": "0bc1412e-3df5-4260-a7a5-8d748ab7d88d",
   "metadata": {},
   "outputs": [],
   "source": [
    "dates_df = pd.DataFrame(date_strings)\n",
    "dates_df = dates_df.rename({0:\"date\"}, axis = 1)"
   ]
  },
  {
   "cell_type": "code",
   "execution_count": 26,
   "id": "8b1571d5-8078-49c5-863a-943d5ac217e8",
   "metadata": {},
   "outputs": [],
   "source": [
    "# Convert to datetime objects\n",
    "dates_df[\"datetime\"] = [datetime.strptime(date, \"%B %d %Y\") for date in dates_df[\"date\"]]"
   ]
  },
  {
   "cell_type": "code",
   "execution_count": 27,
   "id": "296ec1af-006d-488f-9e3d-5a8d980abf7c",
   "metadata": {},
   "outputs": [],
   "source": [
    "# Function to convert date to decimal year\n",
    "def to_decimal_year(date):\n",
    "    year = date.year\n",
    "    start_of_year = datetime(year, 1, 1)\n",
    "    end_of_year = datetime(year + 1, 1, 1)\n",
    "    year_length = (end_of_year - start_of_year).days\n",
    "    day_of_year = (date - start_of_year).days\n",
    "    return year + day_of_year / year_length"
   ]
  },
  {
   "cell_type": "code",
   "execution_count": 28,
   "id": "29e0ddf1-894e-4621-8d60-3689439b64db",
   "metadata": {},
   "outputs": [],
   "source": [
    "# Add the decimal date for each datetime\n",
    "dates_df[\"decimal_date\"] = dates_df[\"datetime\"].apply(to_decimal_year)"
   ]
  },
  {
   "cell_type": "code",
   "execution_count": 29,
   "id": "def0326d-0277-448b-9ea0-bbc2f41d945a",
   "metadata": {},
   "outputs": [
    {
     "name": "stdout",
     "output_type": "stream",
     "text": [
      "                date   datetime  decimal_date\n",
      "0   September 1 2021 2021-09-01   2021.665753\n",
      "1     October 1 2021 2021-10-01   2021.747945\n",
      "2    November 1 2021 2021-11-01   2021.832877\n",
      "3    December 1 2021 2021-12-01   2021.915068\n",
      "4     January 1 2022 2022-01-01   2022.000000\n",
      "5    February 1 2022 2022-02-01   2022.084932\n",
      "6       March 1 2022 2022-03-01   2022.161644\n",
      "7       April 1 2022 2022-04-01   2022.246575\n",
      "8         May 1 2022 2022-05-01   2022.328767\n",
      "9        June 1 2022 2022-06-01   2022.413699\n",
      "10       July 1 2022 2022-07-01   2022.495890\n",
      "11     August 1 2022 2022-08-01   2022.580822\n",
      "12  September 1 2022 2022-09-01   2022.665753\n",
      "13    October 1 2022 2022-10-01   2022.747945\n",
      "14   November 1 2022 2022-11-01   2022.832877\n",
      "15   December 1 2022 2022-12-01   2022.915068\n",
      "16    January 1 2023 2023-01-01   2023.000000\n",
      "17   February 1 2023 2023-02-01   2023.084932\n",
      "18      March 1 2023 2023-03-01   2023.161644\n",
      "19      April 1 2023 2023-04-01   2023.246575\n",
      "20        May 1 2023 2023-05-01   2023.328767\n",
      "21       June 1 2023 2023-06-01   2023.413699\n",
      "22       July 1 2023 2023-07-01   2023.495890\n",
      "23     August 1 2023 2023-08-01   2023.580822\n",
      "24  September 1 2023 2023-09-01   2023.665753\n",
      "25    October 1 2023 2023-10-01   2023.747945\n",
      "26   November 1 2023 2023-11-01   2023.832877\n",
      "27   December 1 2023 2023-12-01   2023.915068\n",
      "28    January 1 2024 2024-01-01   2024.000000\n",
      "29   February 1 2024 2024-02-01   2024.084699\n",
      "30      March 1 2024 2024-03-01   2024.163934\n",
      "31      April 1 2024 2024-04-01   2024.248634\n",
      "32        May 1 2024 2024-05-01   2024.330601\n",
      "33       June 1 2024 2024-06-01   2024.415301\n",
      "34       July 1 2024 2024-07-01   2024.497268\n",
      "35     August 1 2024 2024-08-01   2024.581967\n",
      "36  September 1 2024 2024-09-01   2024.666667\n",
      "37    October 1 2024 2024-10-01   2024.748634\n",
      "38   November 1 2024 2024-11-01   2024.833333\n",
      "39   December 1 2024 2024-12-01   2024.915301\n"
     ]
    }
   ],
   "source": [
    "print(dates_df)"
   ]
  },
  {
   "cell_type": "code",
   "execution_count": null,
   "id": "6e197733-a80e-475d-b866-a578f1f4cadb",
   "metadata": {},
   "outputs": [],
   "source": [
    "def month(df, column):\n",
    "    df[\"rounded\"] = df[column].round(6)\n",
    "\n",
    "    def get_month(y):\n",
    "        if y >= 2021.832877: \n",
    "            return \"november\"\n",
    "        elif 2021.915068 <= y < 2022.000000: \n",
    "            return \"december\"\n",
    "        elif 2022.000000 <= y < 2022.084932: \n",
    "            return \"january\"\n",
    "        elif 2022.084932 <= y < 2022.161644:\n",
    "            return \"february\"\n",
    "        elif 2022.161644 <= y < 2022.246575:\n",
    "            return \"march\"\n",
    "        elif 2022.246575 <= y < 2022.328767:\n",
    "            return \"april\"\n",
    "        elif 2022.328767 <= y < 2022.413699:\n",
    "            return \"may\"\n",
    "        elif 2022.413699 <= y < 2022.495890:\n",
    "            return \"june\"\n",
    "        elif 2022.495890 <= y < 2022.580822:\n",
    "            return \"july\"\n",
    "        elif 2022.580822 <= y < 2022.665753:\n",
    "            return \"august\"\n",
    "        elif 2022.665753 <= y < 2022.747945:\n",
    "            return \"september\"\n",
    "        elif 2022.747945 <= y < 2022.832877: \n",
    "            return \"october\"\n",
    "        elif 2022.832877 <= y < 2022.915068:\n",
    "            return \"november\"\n",
    "        elif 2022.915068 <= y < 2023.000000:\n",
    "            return \"december\"\n",
    "        elif 2023.000000 <= y < 2023.084932:\n",
    "            return \"january\"\n",
    "        elif 2023.084932 <= y < 2023.161644:\n",
    "            return \"february\"\n",
    "        elif 2023.161644 <= y < 2023.246575:\n",
    "            return \"march\"\n",
    "        elif 2023.246575 <= y < 2023.328767:\n",
    "            return \"april\"\n",
    "        elif 2023.328767 <= y < 2023.413699:\n",
    "            return \"may\"\n",
    "        elif 2023.413699 <= y < 2023.495890:\n",
    "            return \"june\"\n",
    "        elif 2023.495890 <= y < 2023.580822:\n",
    "            return \"july\"\n",
    "        elif 2023.580822 <= y < 2023.665753:\n",
    "            return \"august\"\n",
    "        elif 2023.665753 <= y < 2023.747945:\n",
    "            return \"september\"\n",
    "        elif 2023.747945 <= y < 2023.832877:\n",
    "            return \"october\"\n",
    "        elif 2023.832877 <= y < 2023.915068:\n",
    "            return \"november\"\n",
    "        elif 2023.915068 <= y < 2024.000000:\n",
    "            return \"december\"\n",
    "        elif 2024.000000 <= y < 2024.084699:\n",
    "            return \"january\"\n",
    "        elif 2024.084699 <= y < 2024.163934:\n",
    "            return \"february\"\n",
    "        elif 2024.163934 <= y < 2024.248634:\n",
    "            return \"march\"\n",
    "        elif 2024.248634 <= y < 2024.330601:\n",
    "            return \"april\"\n",
    "        elif 2024.330601 <= y < 2024.415301:\n",
    "            return \"may\"\n",
    "        elif 2024.415301 <= y < 2024.497268:\n",
    "            return \"june\"\n",
    "        elif 2024.497268 <= y < 2024.581967:\n",
    "            return \"july\"\n",
    "        elif 2024.581967 <= y < 2024.666667:\n",
    "            return \"august\"\n",
    "        elif 2024.666667 <= y < 2024.748634:\n",
    "            return \"september\"\n",
    "        elif 2024.748634 <= y < 2024.833333:\n",
    "            return \"october\"\n",
    "        elif 2024.833333 <= y < 2024.915301:\n",
    "            return \"november\"\n",
    "        elif y >= 2024.915301:\n",
    "            return \"december\"\n",
    "        else:\n",
    "            return \"unknown\"\n",
    "\n",
    "    df[\"month\"] = df[\"rounded\"].apply(get_month)\n",
    "    return df.drop(\"year_rounded\", axis=1)"
   ]
  }
 ],
 "metadata": {
  "kernelspec": {
   "display_name": "Python 3 (ipykernel)",
   "language": "python",
   "name": "python3"
  },
  "language_info": {
   "codemirror_mode": {
    "name": "ipython",
    "version": 3
   },
   "file_extension": ".py",
   "mimetype": "text/x-python",
   "name": "python",
   "nbconvert_exporter": "python",
   "pygments_lexer": "ipython3",
   "version": "3.11.7"
  }
 },
 "nbformat": 4,
 "nbformat_minor": 5
}
