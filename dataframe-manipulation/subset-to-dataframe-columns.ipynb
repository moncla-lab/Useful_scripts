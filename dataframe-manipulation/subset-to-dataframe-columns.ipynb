{
 "cells": [
  {
   "cell_type": "code",
   "execution_count": 1,
   "id": "edb694d3-5020-4286-9f6f-6b7717057355",
   "metadata": {},
   "outputs": [],
   "source": [
    "import re\n",
    "import os\n",
    "import pandas as pd\n",
    "from Bio import SeqIO\n",
    "from datetime import datetime"
   ]
  },
  {
   "cell_type": "code",
   "execution_count": 2,
   "id": "a7ff2e71-e125-416f-a92a-b9760bce9173",
   "metadata": {},
   "outputs": [],
   "source": [
    "def subset_dataframe(path_to_file):\n",
    "   \n",
    "    FILE = path_to_file\n",
    "    metadata = pd.read_csv(FILE, sep = \"\\t\")\n",
    "    needed_columns = [\"strain\", \"lat\", \"long\"]\n",
    "    metadata_subset = metadata.loc[0:, needed_columns]\n",
    "\n",
    "    metadata_subset.dropna(subset=['lat'], inplace=True)\n",
    "\n",
    "    return(metadata_subset)"
   ]
  },
  {
   "cell_type": "code",
   "execution_count": 3,
   "id": "9d1ce364-e733-44aa-a160-bc7c24825c23",
   "metadata": {},
   "outputs": [],
   "source": [
    "ha_subset = subset_dataframe(\"./metadata/sequence_metadata/NCBI+BVBRC+GIS_ha.tsv\")"
   ]
  },
  {
   "cell_type": "code",
   "execution_count": 4,
   "id": "4de7a78c-0eee-4866-b7a3-bb649d569c07",
   "metadata": {},
   "outputs": [],
   "source": [
    "ha_subset.to_csv(\"./metadata/sequence_metadata/NCBI+BVBRC+GIS_ha_latlong_subset.tsv\",\n",
    "                 sep = \"\\t\")"
   ]
  },
  {
   "cell_type": "code",
   "execution_count": null,
   "id": "98311b03-314d-4439-b3f8-7dd8c04be485",
   "metadata": {},
   "outputs": [],
   "source": []
  }
 ],
 "metadata": {
  "kernelspec": {
   "display_name": "Python 3 (ipykernel)",
   "language": "python",
   "name": "python3"
  },
  "language_info": {
   "codemirror_mode": {
    "name": "ipython",
    "version": 3
   },
   "file_extension": ".py",
   "mimetype": "text/x-python",
   "name": "python",
   "nbconvert_exporter": "python",
   "pygments_lexer": "ipython3",
   "version": "3.11.7"
  }
 },
 "nbformat": 4,
 "nbformat_minor": 5
}
